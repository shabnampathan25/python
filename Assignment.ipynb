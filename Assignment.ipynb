{
 "cells": [
  {
   "cell_type": "markdown",
   "id": "9471f960-1f77-4b86-8044-87ea813c6abd",
   "metadata": {},
   "source": [
    "## Assignment :-"
   ]
  },
  {
   "cell_type": "markdown",
   "id": "19b93d00-6cad-4a1e-a57a-4aa47d044192",
   "metadata": {},
   "source": [
    "### 1) What are the types of Applications?"
   ]
  },
  {
   "cell_type": "markdown",
   "id": "46562b16-7bce-4f32-a6f7-dbbd17c42e01",
   "metadata": {},
   "source": [
    "Applications, often referred to as apps, come in various types based on their purpose and functionality. \n",
    "Here are some common types:\n",
    "1. Database Applications: These are designed to manage and organize data.\n",
    "   Examples include SQL Server and Oracle.\n",
    "2. Custom Applications: Tailored for specific user needs within an organization.\n",
    "   They are developed to address unique requirements.\n",
    "3. Web-based Applications: These run on web browsers and do not require installation.\n",
    "   Examples include Google Docs and online banking apps.\n",
    "4. Enterprise Applications: Used by businesses to support organizational processes.\n",
    "   Examples include ERP (Enterprise Resource Planning) systems.\n",
    "5. Mobile Applications: Designed for mobile devices.\n",
    "   Examples include social media apps like Instagram and messaging apps like WhatsApp.\n",
    "6. Low Code/No Code Applications: Allow users to create applications with minimal or no coding.\n",
    "    Examples include platforms like Microsoft Power Apps."
   ]
  },
  {
   "cell_type": "markdown",
   "id": "9f33433e-9966-47d8-925a-cb7698b4b70e",
   "metadata": {},
   "source": [
    "### 2) What is programing?"
   ]
  },
  {
   "cell_type": "markdown",
   "id": "377276e0-791b-474e-bc36-04415d17f77d",
   "metadata": {},
   "source": [
    "Programming is the process of creating a set of instructions that a computer can follow to perform specific tasks.\n",
    "These instructions are written in programming languages, which are designed to be understood by both humans and machines.\n",
    "Programming involves a variety of activities, from designing algorithms to writing code and debugging errors.\n",
    "It’s like writing a recipe for a computer to execute. Here are some key points about programming:\n",
    "\n",
    "1.Instructions for computers.\n",
    "2.Programming Languages.\n",
    "3.Problem-Solving.                                                                                                                                                                                                                "
   ]
  },
  {
   "cell_type": "markdown",
   "id": "9b77657e-deee-4fe0-be71-842b0e85736a",
   "metadata": {},
   "source": [
    "### 3)\tWhat is Python? "
   ]
  },
  {
   "cell_type": "markdown",
   "id": "3abf96ba-b62b-44b9-a303-d7fe849bfc15",
   "metadata": {},
   "source": [
    "Python is a high-level,interpreted programming language with dynamic semantics,known for its ease of learning and readability."
   ]
  },
  {
   "cell_type": "markdown",
   "id": "4aa322a3-976f-4864-bc98-b77d4d7e4b94",
   "metadata": {},
   "source": [
    "### 4) Write a Python program to check if a number is positive, negative or zero."
   ]
  },
  {
   "cell_type": "code",
   "execution_count": 23,
   "id": "9f68d9aa-68d0-432b-9bab-6ea2a807b2d6",
   "metadata": {},
   "outputs": [
    {
     "name": "stdin",
     "output_type": "stream",
     "text": [
      "Enter the number : 4\n"
     ]
    },
    {
     "name": "stdout",
     "output_type": "stream",
     "text": [
      "4 is postive number.\n"
     ]
    }
   ],
   "source": [
    "n=int(input(\"Enter the number :\"))\n",
    "if(n > 0): \n",
    "    print(f\"{n} is postive number.\")\n",
    "elif(n < 0):\n",
    "    print(f\"{n} is negative number.\")\n",
    "else:\n",
    "    print(f\"{n} number is zero number.\")"
   ]
  },
  {
   "cell_type": "markdown",
   "id": "fcf1bc4f-3e17-4c74-8d4c-54f496773788",
   "metadata": {},
   "source": [
    "### 5) Write a Python program to get the Factorial number of given numbers. "
   ]
  },
  {
   "cell_type": "code",
   "execution_count": 41,
   "id": "4ddf2ad7-4db0-4151-a178-c5c958d0d846",
   "metadata": {},
   "outputs": [
    {
     "name": "stdin",
     "output_type": "stream",
     "text": [
      "Enter the Number: 5\n"
     ]
    },
    {
     "name": "stdout",
     "output_type": "stream",
     "text": [
      "The factorial number of 5 is 120\n"
     ]
    }
   ],
   "source": [
    "n=int(input(\"Enter the Number:\"))\n",
    "i=1\n",
    "fac=1\n",
    "while(i<=n):\n",
    "    fac=fac*i\n",
    "    i=i+1\n",
    "print(f\"The factorial number of {n} is {fac}\")"
   ]
  },
  {
   "cell_type": "markdown",
   "id": "3fcb20a1-15af-4da1-9ddd-a922a4892b7f",
   "metadata": {},
   "source": [
    "### 6) Write a Python program to get the Fibonacci series of given range. "
   ]
  },
  {
   "cell_type": "code",
   "execution_count": 49,
   "id": "f3f399bf-083e-4c51-90a4-2b6c1bdb5869",
   "metadata": {},
   "outputs": [
    {
     "name": "stdin",
     "output_type": "stream",
     "text": [
      "Enter the number : 7\n"
     ]
    },
    {
     "name": "stdout",
     "output_type": "stream",
     "text": [
      "0 1 1 2 3 5 8 "
     ]
    }
   ],
   "source": [
    "n=int(input(\"Enter the number :\"))\n",
    "i=0\n",
    "a=0\n",
    "b=1\n",
    "for i in range(1,n+1):\n",
    "    print(a,end=\" \")\n",
    "    a,b=b,a+b"
   ]
  },
  {
   "cell_type": "markdown",
   "id": "dec8d525-80a7-4297-84ce-f85510340b19",
   "metadata": {},
   "source": [
    "### 7) How memory is managed in Python? "
   ]
  },
  {
   "cell_type": "markdown",
   "id": "0305cc27-4fb6-45e3-b2d7-47d32b24d2af",
   "metadata": {},
   "source": [
    "You can classify memory management in Python in one of two ways: dynamic allocation or static allocation. Dynamic allocation occurs as the program is running. This means that as the program operates, it can dynamically determine where to allocate memory while reusing and releasing it. Static memory allocation happens before the running of a program, predetermining the amount and distribution of the memory, and without the ability to reuse memory.\r\n"
   ]
  },
  {
   "cell_type": "markdown",
   "id": "5ccf187c-31d1-4a64-be61-dc6c64c23814",
   "metadata": {},
   "source": [
    "### 8) What is the purpose continuing statement in python? "
   ]
  },
  {
   "cell_type": "raw",
   "id": "7e06a108-4383-4f92-996e-eb15230e281f",
   "metadata": {},
   "source": [
    "The continue statement is used to skip the remaining code inside a loop for the current iteration only. "
   ]
  },
  {
   "cell_type": "markdown",
   "id": "994bdea5-3022-4659-9a3d-11e48b9fdd64",
   "metadata": {},
   "source": [
    "### 9) Write python program that swap two number with temp variable and without temp variable. "
   ]
  },
  {
   "cell_type": "code",
   "execution_count": 91,
   "id": "82c32aa3-7be9-4023-98f7-ad97e69cf50d",
   "metadata": {},
   "outputs": [
    {
     "name": "stdin",
     "output_type": "stream",
     "text": [
      "Enter the number a: 12\n",
      "Enter the number b: 36\n"
     ]
    },
    {
     "name": "stdout",
     "output_type": "stream",
     "text": [
      "a:36\n",
      "b:12\n"
     ]
    },
    {
     "name": "stdin",
     "output_type": "stream",
     "text": [
      "Enter the number a: 54\n",
      "Enter the number b: 69\n"
     ]
    },
    {
     "name": "stdout",
     "output_type": "stream",
     "text": [
      "a:69\n",
      "b:54\n"
     ]
    },
    {
     "name": "stdin",
     "output_type": "stream",
     "text": [
      "Enter the number a: 54\n",
      "Enter the number b: 69\n"
     ]
    },
    {
     "name": "stdout",
     "output_type": "stream",
     "text": [
      "a:69\n",
      "b:54\n"
     ]
    }
   ],
   "source": [
    "#swap two number with using temp varible.\n",
    "\n",
    "a=int(input(\"Enter the number a:\"))\n",
    "b=int(input(\"Enter the number b:\"))\n",
    "temp=a\n",
    "a=b\n",
    "b=temp\n",
    "print(f'a:{a}')\n",
    "print(f'b:{b}')\n",
    "\n",
    "\n",
    "# swap two number without using temp varible.\n",
    "\n",
    "a=int(input(\"Enter the number a:\"))\n",
    "b=int(input(\"Enter the number b:\"))\n",
    "\n",
    "a=a+b\n",
    "b=a-b\n",
    "a=a-b\n",
    "print(f'a:{a}') \n",
    "print(f'b:{b}')\n",
    "\n",
    "#or second way \n",
    "\n",
    "a=int(input(\"Enter the number a:\"))\n",
    "b=int(input(\"Enter the number b:\"))\n",
    "\n",
    "a,b=b,a\n",
    "print(f'a:{a}') \n",
    "print(f'b:{b}')"
   ]
  },
  {
   "cell_type": "markdown",
   "id": "998a2c09-cbe5-4082-8147-70433ff00399",
   "metadata": {},
   "source": [
    "### 10) Write a Python program to find whether a given number is even or odd, print out an appropriate message to the user. "
   ]
  },
  {
   "cell_type": "code",
   "execution_count": 2,
   "id": "4c5800f3-25f5-4260-a5be-4201f4ccb3f0",
   "metadata": {},
   "outputs": [
    {
     "name": "stdin",
     "output_type": "stream",
     "text": [
      "Enter the number: 10\n"
     ]
    },
    {
     "name": "stdout",
     "output_type": "stream",
     "text": [
      "10 number is even.\n"
     ]
    },
    {
     "name": "stdin",
     "output_type": "stream",
     "text": [
      "Enter the number: 3\n"
     ]
    },
    {
     "name": "stdout",
     "output_type": "stream",
     "text": [
      "3 number is odd.\n"
     ]
    }
   ],
   "source": [
    "N=int(input(\"Enter the number:\"))\n",
    "if(N % 2==0):\n",
    "    print(f\"{N} number is even.\")\n",
    "else:\n",
    "    print(f\"{N} number is odd\")\n",
    "    \n",
    "#second way\n",
    "\n",
    "N=int(input(\"Enter the number:\"))\n",
    "if(N // 2 != 0):\n",
    "    print(f'{N} number is odd.')\n",
    "else:\n",
    "    print(f'{N} number is even.')"
   ]
  },
  {
   "cell_type": "markdown",
   "id": "63220ccb-6aaa-408e-b08c-af0cadc7b8b3",
   "metadata": {},
   "source": [
    "### 11) Write a Python program to test whether a passed letter is a vowel or not. "
   ]
  },
  {
   "cell_type": "code",
   "execution_count": 68,
   "id": "00c76377-bd5c-4768-8c20-0b3e06b051c8",
   "metadata": {},
   "outputs": [
    {
     "name": "stdin",
     "output_type": "stream",
     "text": [
      "Enter the Letter: k\n"
     ]
    },
    {
     "name": "stdout",
     "output_type": "stream",
     "text": [
      "k letter is not a vowel!\n",
      "k letter is not a vowel!.\n"
     ]
    }
   ],
   "source": [
    "L=input(\"Enter the Letter:\")\n",
    "V=['a','e','i','o','u','A','E','I','O','U']\n",
    "if L in V:\n",
    "    print(f\"{L} letter is a vowel!\")\n",
    "else:\n",
    "    print(f\"{L} letter is not a vowel!\")\n",
    "\n",
    "#another way\n",
    "\n",
    "def letter(L):\n",
    "    if (L == 'a' or L == 'i' or L == 'e' or L == 'o' or L == 'u' or L == 'A' or L == 'E' or L == 'I' or L == 'O' or L == 'U'):\n",
    "        print(f\"{L} letter is a vowel!.\")\n",
    "    else:\n",
    "        print(f\"{L} letter is not a vowel!.\")\n",
    "\n",
    "letter(L)"
   ]
  },
  {
   "cell_type": "markdown",
   "id": "22d52565-0ada-4dee-9f9b-056febcaca7b",
   "metadata": {},
   "source": [
    "### 12) Write a Python program to sum of three given integers. However, if two values are equal sum will be zero. "
   ]
  },
  {
   "cell_type": "code",
   "execution_count": 37,
   "id": "b8971d11-03bb-4ae2-abbc-e58685a753d2",
   "metadata": {},
   "outputs": [
    {
     "name": "stdin",
     "output_type": "stream",
     "text": [
      "Enter the integer P: 25\n",
      "Enter the integer Q: 26\n",
      "Enter the integer R: 25\n"
     ]
    },
    {
     "name": "stdout",
     "output_type": "stream",
     "text": [
      "Two integer value are equal and  sum is zero.\n"
     ]
    }
   ],
   "source": [
    "P=int(input(\"Enter the integer P:\"))\n",
    "Q=int(input(\"Enter the integer Q:\"))\n",
    "R=int(input(\"Enter the integer R:\"))\n",
    "\n",
    "if(P==Q or P==R or Q==R):\n",
    "    sum=0\n",
    "    print(\"Two integer value are equal and  sum is zero.\")\n",
    "else:\n",
    "    sum=P+Q+R\n",
    "    print(\"Two integer value are not equal and sum is not zero.\")\n"
   ]
  },
  {
   "cell_type": "markdown",
   "id": "cf420dfb-ff5c-418c-892b-77c6d77340cd",
   "metadata": {},
   "source": [
    "### 13) Write a Python program that will return true if the two given integer values are equal or their sum or difference is 5."
   ]
  },
  {
   "cell_type": "code",
   "execution_count": 16,
   "id": "2311304a-8631-4ebd-a225-efd50bf0b679",
   "metadata": {},
   "outputs": [
    {
     "data": {
      "text/plain": [
       "True"
      ]
     },
     "execution_count": 16,
     "metadata": {},
     "output_type": "execute_result"
    }
   ],
   "source": [
    "def two_value(A,B):\n",
    "    if(A == B) or abs(A-B == 5) or abs(A+B == 5):\n",
    "        return True\n",
    "    else:\n",
    "        return False\n",
    "two_value(2,3)"
   ]
  },
  {
   "cell_type": "markdown",
   "id": "7651693a-71a3-4f75-a757-d781489bf8d9",
   "metadata": {},
   "source": [
    "### 14) Write a python program to sum of the first n positive integers. "
   ]
  },
  {
   "cell_type": "code",
   "execution_count": 71,
   "id": "a5a34a00-9134-42be-b0e9-aca7c0378498",
   "metadata": {},
   "outputs": [
    {
     "name": "stdin",
     "output_type": "stream",
     "text": [
      "Enter the number n: 4\n"
     ]
    },
    {
     "name": "stdout",
     "output_type": "stream",
     "text": [
      "Sum of the first n postive intergers:10\n"
     ]
    }
   ],
   "source": [
    "n=int(input(\"Enter the number n:\"))\n",
    "sum=(n*(n+1))/2\n",
    "print(f'Sum of the first n postive intergers:{round(sum)}')"
   ]
  },
  {
   "cell_type": "markdown",
   "id": "2d9a7595-90e1-48e0-a53a-079c1c07f8d7",
   "metadata": {},
   "source": [
    "### 15) Write a Python program to calculate the length of a string. "
   ]
  },
  {
   "cell_type": "code",
   "execution_count": 37,
   "id": "7dee22f3-5a7d-4ea8-927f-c4d23ae9f510",
   "metadata": {},
   "outputs": [
    {
     "name": "stdout",
     "output_type": "stream",
     "text": [
      "Length of string is:15\n"
     ]
    }
   ],
   "source": [
    "def string_word(S):\n",
    "    count=0\n",
    "    for i in S:\n",
    "        count=count+1     #count+=1\n",
    "    return count\n",
    "print(f'Length of string is:{string_word(\"Hello Everyone!\")}')   #including space count number in length"
   ]
  },
  {
   "cell_type": "markdown",
   "id": "d63b9229-2665-4413-a0e2-36b189b9f6ec",
   "metadata": {},
   "source": [
    "### 16) Write a Python program to count the number of characters (character frequency) in a string. "
   ]
  },
  {
   "cell_type": "code",
   "execution_count": 52,
   "id": "386f70b3-3323-4abc-b090-8e82d2fc83d7",
   "metadata": {},
   "outputs": [
    {
     "name": "stdin",
     "output_type": "stream",
     "text": [
      "Enter the String:  welcome vadodara\n"
     ]
    },
    {
     "name": "stdout",
     "output_type": "stream",
     "text": [
      "{'w': 1, 'e': 2, 'l': 1, 'c': 1, 'o': 2, 'm': 1, ' ': 1, 'v': 1, 'a': 3, 'd': 2, 'r': 1}\n"
     ]
    }
   ],
   "source": [
    "n=input(\"Enter the String: \")\n",
    "s={}\n",
    "for i in n:\n",
    "    if i in s:\n",
    "        s[i]+=1\n",
    "    else:\n",
    "        s[i]=1\n",
    "print(s)\n"
   ]
  },
  {
   "cell_type": "markdown",
   "id": "d9fc8e40-29a6-491a-ae16-846bb2a6a795",
   "metadata": {},
   "source": [
    "### 17) What are negative indexes and why are they used? "
   ]
  },
  {
   "cell_type": "markdown",
   "id": "b0cf2cf8-2bbb-4223-a001-f5fa0a7ac226",
   "metadata": {},
   "source": [
    "Negative indexing allows you to access elements of a sequence from the end, using negative numbers as indexes. This can be useful for getting the last few elements of a sequence, reversing a sequence, or performing other operations that require accessing elements from the end."
   ]
  },
  {
   "cell_type": "markdown",
   "id": "f3019c0b-57e6-45e5-b168-429d236fde06",
   "metadata": {},
   "source": [
    "### 18) Write a Python program to count occurrences of a substring in a string. "
   ]
  },
  {
   "cell_type": "code",
   "execution_count": 60,
   "id": "8148f8b9-6a3a-4a61-badf-45fcac85f669",
   "metadata": {},
   "outputs": [
    {
     "name": "stdout",
     "output_type": "stream",
     "text": [
      "One girl name is Niki ,Niki from mumbai.Niki age is 25 year old.Niki finding new job.\n",
      "Substring Niki is count : 4\n"
     ]
    }
   ],
   "source": [
    "S = 'One girl name is Niki ,Niki from mumbai.Niki age is 25 year old.Niki finding new job.'\n",
    "print(S)\n",
    "S1 = 'Niki'\n",
    "print(f'Substring {S1} is count :', S.count(S1))"
   ]
  },
  {
   "cell_type": "markdown",
   "id": "47ed9c63-9621-4d60-9346-fb129ad6c05b",
   "metadata": {},
   "source": [
    "### 19) Write a Python program to count the occurrences of each word in a given sentence. "
   ]
  },
  {
   "cell_type": "code",
   "execution_count": 80,
   "id": "4baa6e2a-f6d5-4455-bd09-233bd6f8268c",
   "metadata": {},
   "outputs": [
    {
     "name": "stdout",
     "output_type": "stream",
     "text": [
      "{'you': 3, 'can': 1, 'bulid': 1, 'yourself': 1, 'into': 1, 'anything': 1, 'want': 1, 'starting': 1, 'where': 1, 'are': 1, 'now': 1}\n"
     ]
    }
   ],
   "source": [
    "S = \"You can bulid yourself into anything you want starting where you are now\"\n",
    "counts = {}            # empty dictionary\n",
    "s = S.lower()          # all words  covert small words\n",
    "words = s.split()      # all words spareted\n",
    "for i in words:\n",
    "     if i in counts:\n",
    "        counts[i] += 1\n",
    "     else:\n",
    "        counts[i] = 1\n",
    "\n",
    "print(counts)"
   ]
  },
  {
   "cell_type": "markdown",
   "id": "a2828f1b-b293-47b3-bd40-5d26ed313508",
   "metadata": {},
   "source": [
    "### 20) Write a Python program to get a single string from two given strings,separated by a space and swap the first two characters of each string. "
   ]
  },
  {
   "cell_type": "code",
   "execution_count": 22,
   "id": "193db1ae-e3db-492d-a019-067bd98847a5",
   "metadata": {},
   "outputs": [
    {
     "name": "stdout",
     "output_type": "stream",
     "text": [
      "Petivation Moople\n"
     ]
    }
   ],
   "source": [
    "S1 = (\"Motivation\")\n",
    "S2 = (\"People\")\n",
    "\n",
    "New_S1 = S2[:2] + S1[2:]\n",
    "New_S2 = S1[:2] + S2[2:]\n",
    "print(New_S1+' '+New_S2)\n"
   ]
  },
  {
   "cell_type": "markdown",
   "id": "92b5d527-c079-4d9e-adb3-5c0f2d8db70f",
   "metadata": {},
   "source": [
    "### 21) Write a Python program to add 'in' at the end of a given string (length should be at least 3).If the given string already ends with 'ing' then add 'ly' instead if the string length of the given string is less than 3,leave it unchanged. "
   ]
  },
  {
   "cell_type": "code",
   "execution_count": 30,
   "id": "9a1a8d8d-607d-4695-a27d-cf211964027a",
   "metadata": {},
   "outputs": [
    {
     "name": "stdin",
     "output_type": "stream",
     "text": [
      "Enter the string : song\n"
     ]
    },
    {
     "name": "stdout",
     "output_type": "stream",
     "text": [
      "songin\n"
     ]
    }
   ],
   "source": [
    "S=input(\"Enter the string :\")\n",
    "if len(S)<3:\n",
    "    print(S)\n",
    "elif S[-3:] =='ing':\n",
    "    S=S+'ly'\n",
    "    print(S)\n",
    "else:\n",
    "    S=S+'in'\n",
    "    print(S)"
   ]
  },
  {
   "cell_type": "markdown",
   "id": "8de5fc72-635b-4429-b86c-be2df3730d69",
   "metadata": {},
   "source": [
    "### 22) Write a Python function to reverses a string if its length is a multiple of 4."
   ]
  },
  {
   "cell_type": "code",
   "execution_count": 48,
   "id": "87bcecb6-1008-4e34-a060-74bd08ea1897",
   "metadata": {},
   "outputs": [
    {
     "name": "stdout",
     "output_type": "stream",
     "text": [
      "NEVE\n",
      "HELLO EVERYONE\n",
      "ENOYREVE\n"
     ]
    }
   ],
   "source": [
    "def reverse_string(S):\n",
    "    if len(S) % 4 == 0:\n",
    "        return S[::-1]\n",
    "    else:\n",
    "        return S\n",
    "\n",
    "print(reverse_string(\"EVEN\"))               # length=4 #length 4  division by then reverse output\n",
    "print(reverse_string(\"HELLO EVERYONE\"))     # length=14 #length > 4   then string input given output no change input\n",
    "print(reverse_string(\"EVERYONE\"))           # lenth=8 #Length 4 division by then reverse output"
   ]
  },
  {
   "cell_type": "markdown",
   "id": "decc9c98-77a9-4d0d-a90d-338021e79f9e",
   "metadata": {},
   "source": [
    "### 23) Write a Python program to get a string made of the first 2 and the last 2 chars from a given a string.If the string lenght is less then 2,return instead of the empty string. "
   ]
  },
  {
   "cell_type": "code",
   "execution_count": 54,
   "id": "1ab269f9-528a-4ef4-a4f2-37d63e21cc42",
   "metadata": {},
   "outputs": [
    {
     "name": "stdout",
     "output_type": "stream",
     "text": [
      " \n",
      "GOON\n",
      "heey\n"
     ]
    }
   ],
   "source": [
    "def string(S):\n",
    "    if len(S) < 2:\n",
    "        return ' '\n",
    "\n",
    "    else:\n",
    "        return S[:2] +S[-2:]\n",
    "\n",
    "print(string(\" \"))                   #length=0\n",
    "print(string(\"GOOD AFTERNOON\"))      #length=14\n",
    "print(string(\"hey\"))                 #length=3"
   ]
  },
  {
   "cell_type": "markdown",
   "id": "b218a8a3-ef37-46a5-aea1-cb492edebc10",
   "metadata": {},
   "source": [
    "### 24) Write a Python function to insert a string in the middle of a string. "
   ]
  },
  {
   "cell_type": "code",
   "execution_count": 4,
   "id": "9d364266-e2a3-41c4-bea9-6b0638cf4d39",
   "metadata": {},
   "outputs": [
    {
     "name": "stdout",
     "output_type": "stream",
     "text": [
      "<HELLO EVERYONE>\n",
      "AnDevilgle\n",
      "he1234llo\n"
     ]
    }
   ],
   "source": [
    "def insert_middle_string(S1,S2):\n",
    "    middle_index = len(S1) // 2     # '//' integer value given and '/' then write int(len() /2 given float value)\n",
    "    S = S1[:middle_index] + S2 + S1[middle_index:]\n",
    "    return S\n",
    "\n",
    "print(insert_middle_string('<>','HELLO EVERYONE'))\n",
    "print(insert_middle_string('Angle','Devil'))\n",
    "print(insert_middle_string(\"hello\",'1234'))\n",
    "    "
   ]
  },
  {
   "cell_type": "markdown",
   "id": "ced0a2e0-43d7-4295-a544-17cf4f0fd009",
   "metadata": {},
   "source": [
    "### 25) What is List? How will you reverse a list? "
   ]
  },
  {
   "cell_type": "markdown",
   "id": "f4a3df55-3216-4db6-9d09-ddc796336d23",
   "metadata": {},
   "source": [
    "Lists are used to store multiple items in a single variable.\n",
    "Lists are one of 4 built-in data types in Python used to store collections of data, the other 3 are Tuple, Set, and Dictionary, \n",
    "all with different qualities and usage. Lists can store items of different data types, including numbers, strings, and even other lists.\n",
    "Lists are mutable, meaning you can change their content after they have been created.\n",
    "\n",
    "There are several ways to reverse a list in Python:\n",
    "1. Using the reverse() Method: This method reverses the list in place, meaning it modifies the original list.\n",
    "2. Using List Slicing: This creates a new list that is a reversed version of the original list.\n",
    "3. Using the reversed() Function: This function returns an iterator that you can convert to a list."
   ]
  },
  {
   "cell_type": "code",
   "execution_count": 87,
   "id": "24ae4b10-20de-4ecc-ad65-dc3105fd03bc",
   "metadata": {},
   "outputs": [
    {
     "name": "stdout",
     "output_type": "stream",
     "text": [
      "first method reverse list is:[151, 12, 21, 91, 81, 27, 52, 24, 163]\n",
      "second method reverse list is:[151, 12, 21, 91, 81, 27, 52, 24, 163]\n",
      "Third method reverse list is:[151, 12, 21, 91, 81, 27, 52, 24, 163]\n"
     ]
    }
   ],
   "source": [
    "#For example :\n",
    "#1.Using the reverse():\n",
    "\n",
    "mylist=[163,24,52,27,81,91,21,12,151]\n",
    "mylist.reverse()\n",
    "print(f'first method reverse list is:{mylist}')\n",
    "\n",
    "#2.Using list slicing:\n",
    "\n",
    "mylist=[163,24,52,27,81,91,21,12,151]\n",
    "reverselist = mylist[::-1]\n",
    "print(f'second method reverse list is:{reverselist}')\n",
    "\n",
    "#3.Using the reversed() function:\n",
    "\n",
    "mylist=[163,24,52,27,81,91,21,12,151]\n",
    "reverselist = list(reversed(mylist))\n",
    "print(f'Third method reverse list is:{reverselist}')"
   ]
  },
  {
   "cell_type": "markdown",
   "id": "b3e5262c-08ee-4e5f-80ca-e846f35372d2",
   "metadata": {},
   "source": [
    "### 26) How will you remove last object from a list? "
   ]
  },
  {
   "cell_type": "code",
   "execution_count": 112,
   "id": "0a2e61dd-c2c5-49d3-8141-ef6d4b6b1bf2",
   "metadata": {},
   "outputs": [
    {
     "name": "stdout",
     "output_type": "stream",
     "text": [
      "[11, 22, 33, 44, 55, 66, 77, 88]\n",
      "[111, 222, 333, 444, 555, 666, 888, 999]\n",
      "[1111, 2222, 3333, 4444, 5555]\n",
      "[1, 2, 3, 4, 5, 7, 8, 9]\n"
     ]
    }
   ],
   "source": [
    "#1. Using the pop() method:\n",
    "\n",
    "L=[11,22,33,44,55,66,77,88,99]\n",
    "L.pop()\n",
    "print(L)\n",
    "\n",
    "#2.Using the remove() method:\n",
    "\n",
    "L=[111,222,333,444,555,666,777,888,999]\n",
    "L.remove(777)\n",
    "print(L)\n",
    "\n",
    "#3.Using a slicing() method:\n",
    "\n",
    "L=[1111,2222,3333,4444,5555,6666,7777,8888,9999]\n",
    "N = L[:-4]\n",
    "print(N)\n",
    "\n",
    "#4. Using the del statement:\n",
    "L=[1,2,3,4,5,6,7,8,9]\n",
    "del L[-4]\n",
    "print(L)"
   ]
  },
  {
   "cell_type": "markdown",
   "id": "d05f96af-f5c2-43cf-b958-16869130c68c",
   "metadata": {},
   "source": [
    " ### 27) Suppose list1 is [2, 33, 222, 14, and 25], what is list1 [-1]? "
   ]
  },
  {
   "cell_type": "code",
   "execution_count": 137,
   "id": "ea38b957-e5ff-4790-8a4f-533b51e3deb3",
   "metadata": {},
   "outputs": [
    {
     "name": "stdout",
     "output_type": "stream",
     "text": [
      "25\n"
     ]
    }
   ],
   "source": [
    "list1=[2,33,222,14,25]\n",
    "print(list1[-1])"
   ]
  },
  {
   "cell_type": "markdown",
   "id": "cc21830e-cbc7-473a-849a-239a0fe30f84",
   "metadata": {},
   "source": [
    "### 28) Diffrentiate between append () and extend () methods?"
   ]
  },
  {
   "cell_type": "markdown",
   "id": "a9d677fc-eeff-4495-9ea6-7e143dae968b",
   "metadata": {},
   "source": [
    "1. append():\n",
    "\n",
    "Syntax: list.append(element)\n",
    "Adds one element to the end of the list.\n",
    "The element can be of any type, including another list (which will be added as a single nested list).\n",
    "\n",
    "2. extend():\n",
    "\n",
    "Syntax: list.extend(iterable)\n",
    "Adds multiple elements to the end of the list from an iterable.\n",
    "The iterable is unpacked, and its elements are added individually to the list."
   ]
  },
  {
   "cell_type": "code",
   "execution_count": 145,
   "id": "0c1a2555-e216-4484-8bd7-b93bf87be6e0",
   "metadata": {},
   "outputs": [
    {
     "name": "stdout",
     "output_type": "stream",
     "text": [
      "[1, 2, [3, 4]]\n",
      "[1, 2, 3, 4]\n"
     ]
    }
   ],
   "source": [
    "# for example :\n",
    "# 1. Using  the append():\n",
    "\n",
    "X = [1, 2]            \n",
    "X.append([3,4])       # Append the entire list [3, 4] as a single element\n",
    "print(X)              # Output: [1, 2, [3, 4]]\n",
    "\n",
    "# 2. Using the extend():\n",
    "\n",
    "Y = [1, 2]\n",
    "Y.extend([3,4])     # Extend the list by adding elements from another list(iterable)\n",
    "print(Y)             # Output: [1, 2, 3, 4]\n",
    "\n"
   ]
  },
  {
   "cell_type": "markdown",
   "id": "073927ef-c90c-4d14-8623-1e708bde4ed7",
   "metadata": {},
   "source": [
    "### 29) Write a Python function to get the largest number, smallest num and sum of all from a list. "
   ]
  },
  {
   "cell_type": "code",
   "execution_count": 14,
   "id": "931b94bf-9c82-43f3-96a1-11609dc8b349",
   "metadata": {},
   "outputs": [
    {
     "name": "stdout",
     "output_type": "stream",
     "text": [
      "Largest value in list:92\n",
      "smallest value in list:14\n",
      "Sum of the value in list:352\n"
     ]
    }
   ],
   "source": [
    "def list_function(n):\n",
    "    if not n:\n",
    "        return 0,none,null\n",
    "    \n",
    "    largest = max(n)\n",
    "    smallest = min(n)\n",
    "    s= sum(n)\n",
    "    \n",
    "    return largest,smallest,s\n",
    "\n",
    "\n",
    "n = [14,25,45,62,31,83,92]\n",
    "largest,smallest,s = list_function(n)\n",
    "print(f'Largest value in list:{largest}')\n",
    "print(f'smallest value in list:{smallest}')\n",
    "print(f'Sum of the value in list:{s}')\n",
    "\n",
    "    "
   ]
  },
  {
   "cell_type": "markdown",
   "id": "cef630ff-cb25-45b7-87b2-c9017940a48d",
   "metadata": {},
   "source": [
    "### 30) How will you compare two lists? "
   ]
  },
  {
   "cell_type": "code",
   "execution_count": 30,
   "id": "76b75f90-33d5-4918-97df-a75ef98dd5df",
   "metadata": {},
   "outputs": [
    {
     "name": "stdout",
     "output_type": "stream",
     "text": [
      "Two lists are equal?. True\n",
      "Two lists are equal.\n",
      "Two lists are equal.\n"
     ]
    }
   ],
   "source": [
    "#1. Using '==\" \n",
    "\n",
    "X=[14,15,16,17,18,19]\n",
    "Y=[14,15,16,17,18,19]\n",
    "Z = X == Y\n",
    "print(f'Two lists are equal?. {Z}')\n",
    "\n",
    "#2. Using sort()\n",
    "\n",
    "import collections\n",
    "A=[11,22,33,44,55]\n",
    "B=[22,33,11,55,44]\n",
    "\n",
    "A.sort()\n",
    "B.sort()\n",
    "if A == B:\n",
    "    print(\"Two lists are equal.\")\n",
    "else:\n",
    "    print(\"Two lists are not equal.\")\n",
    "\n",
    "#3. Using set()\n",
    "\n",
    "P={155,122,144,199,188,177}\n",
    "Q=[177,122,199,155,144,188]\n",
    "\n",
    "p=set(P)\n",
    "q=set(Q)\n",
    "\n",
    "if p == q:\n",
    "    print(\"Two lists are equal.\")\n",
    "else:\n",
    "    print(\"Two lists are not equal.\")"
   ]
  },
  {
   "cell_type": "markdown",
   "id": "575c2e4c-4553-460c-927e-8cd2eace666f",
   "metadata": {},
   "source": [
    "### 31) Write a Python program to count the number of strings where the string length is 2 or more and the first and last character are same from a given list of strings. "
   ]
  },
  {
   "cell_type": "code",
   "execution_count": 67,
   "id": "17803690-2de1-4433-93c6-67ddae7b1c9a",
   "metadata": {},
   "outputs": [
    {
     "name": "stdout",
     "output_type": "stream",
     "text": [
      "Number of special string:4\n"
     ]
    }
   ],
   "source": [
    "def list_string(S):\n",
    "    count=0\n",
    "    for i in S:\n",
    "        if len(i) >= 2 and i[0] == i[-1]:         #first &last character are same and length more then 2\n",
    "            count += 1                           \n",
    "    return count                                  # first&last character are same output count string\n",
    "\n",
    "    \n",
    "print(f'Number of special string:{list_string(['1221','3323','FHF','MNM','S'])}')          "
   ]
  },
  {
   "cell_type": "markdown",
   "id": "1d2803e8-2124-49ab-9046-86af6993114e",
   "metadata": {},
   "source": [
    "### 32) Write a Python program to remove duplicates from a list. "
   ]
  },
  {
   "cell_type": "code",
   "execution_count": 87,
   "id": "a49ea8d0-ad2a-4c27-9228-d85c0701cb87",
   "metadata": {},
   "outputs": [
    {
     "name": "stdout",
     "output_type": "stream",
     "text": [
      "List after removing duplicates:['a', 'x', 'd', 's', 'v', 'b']\n",
      "List after removing duplicates: [11, 12, 13, 14, 15, 17, 18]\n"
     ]
    }
   ],
   "source": [
    "def my_function(x):\n",
    "    \n",
    "  return list(dict.fromkeys(x))\n",
    "\n",
    "mylist = my_function([\"a\", \"b\", \"a\", \"c\", \"c\"])\n",
    "\n",
    "print(f'List after removing duplicates:{my_function(['a','x','d','s','x','s','d','v','b','v','b'])}')\n",
    "\n",
    "#another way\n",
    "\n",
    "def remove_duplicates(input_list):\n",
    "\n",
    "    return list(set(input_list))\n",
    "\n",
    "print(f\"List after removing duplicates: {remove_duplicates([12,14,15,12,13,11,14,17,18,15,13])}\")\n"
   ]
  },
  {
   "cell_type": "markdown",
   "id": "2afe1859-07fd-4132-acee-c7cda439f512",
   "metadata": {},
   "source": [
    "### 33) Write a Python program to check a list is empty or not. "
   ]
  },
  {
   "cell_type": "code",
   "execution_count": 103,
   "id": "821f1c59-ff14-49d2-a3a1-483d2ff80e2c",
   "metadata": {},
   "outputs": [
    {
     "name": "stdout",
     "output_type": "stream",
     "text": [
      "The list is empty.\n",
      "0\n"
     ]
    }
   ],
   "source": [
    "L=[]\n",
    "if L == []:\n",
    "    print(\"The list is empty.\")\n",
    "else:\n",
    "    print(\"The list is not empty.\")\n",
    "\n",
    "#another way\n",
    "\n",
    "def check_list(lis1): \n",
    "\tif len(lis1) == 0: \n",
    "\t\treturn 0     #\"0\" denoted the list is empty.\n",
    "\telse: \n",
    "\t\treturn 1    #\"1\" denoted the list is not empty.\n",
    "\n",
    "print(check_list([]))\n",
    "\n"
   ]
  },
  {
   "cell_type": "markdown",
   "id": "a665ee52-f806-48bf-9a16-f57b6a989243",
   "metadata": {},
   "source": [
    "### 34) Write a Python function that takes two lists and returns true if they have at least one common member. "
   ]
  },
  {
   "cell_type": "code",
   "execution_count": 149,
   "id": "6a20d969-cab8-492c-9b41-de3f72bdbed2",
   "metadata": {},
   "outputs": [
    {
     "name": "stdout",
     "output_type": "stream",
     "text": [
      "True\n",
      "True\n"
     ]
    }
   ],
   "source": [
    "def common_number(p, q):\n",
    "    P = set(p)\n",
    "    Q = set(q)\n",
    "    if P & Q:\n",
    "        return True\n",
    "    else:\n",
    "        return False\n",
    "    \n",
    "p = [1, 2, 5, 8, 9, 5, 6, 4]\n",
    "q = [1, 2, 3, 4, 5, 6, 4]\n",
    "print(common_number(p, q))\n",
    "\n",
    "#another way\n",
    "\n",
    "def common_number(x,y):\n",
    "    for i in x:\n",
    "        if i in y:\n",
    "            return True\n",
    "    return False\n",
    "\n",
    "x=[11,12,13,15,19]\n",
    "y=[12,13,14,15,16]\n",
    "print(common_number(x,y))\n"
   ]
  },
  {
   "cell_type": "markdown",
   "id": "1738c6f2-905f-4a64-9f14-09df39a433c9",
   "metadata": {},
   "source": [
    "### 35) Write a Python program to generate and print a list of first and last 5 elements where the values are square of numbers between 1 and 30. "
   ]
  },
  {
   "cell_type": "code",
   "execution_count": 170,
   "id": "59804378-671a-443a-b257-230bb699b3f3",
   "metadata": {},
   "outputs": [
    {
     "name": "stdout",
     "output_type": "stream",
     "text": [
      "First and last 5 elements:[1, 4, 9, 16, 25, 676, 729, 784, 841, 900]\n",
      "[121, 144, 169, 196, 225]\n",
      "[625, 676, 729, 784, 841]\n",
      "None\n"
     ]
    }
   ],
   "source": [
    "def generate_squares():\n",
    "    squares = [i**2 for i in range(1, 31)]      #range value  1 to 30 any value put\n",
    "    return squares[:5] + squares[-5:]\n",
    "    \n",
    "print(f'First and last 5 elements:{generate_squares()}')\n",
    "\n",
    "#another way\n",
    "\n",
    "def generate_list():\n",
    "\n",
    "    l= list()\n",
    "    for i in range(11,30):\n",
    "        l.append(i**2)\n",
    "   \n",
    "    print(l[ : 5])\n",
    "    print(l[-5 : ])\n",
    "\n",
    "print(generate_list())"
   ]
  },
  {
   "cell_type": "markdown",
   "id": "2b579f51-7c3b-457f-a58a-9315492bae2a",
   "metadata": {},
   "source": [
    "### 36) Write a Python function that takes a list and returns a new list with unique elements of the first list. "
   ]
  },
  {
   "cell_type": "code",
   "execution_count": 43,
   "id": "589f750e-cba9-4943-8734-ebb5d6dfea47",
   "metadata": {},
   "outputs": [
    {
     "name": "stdout",
     "output_type": "stream",
     "text": [
      "Unique elements of the first list is:[12, 13, 14, 15, 16, 17, 18]\n"
     ]
    }
   ],
   "source": [
    "def unique_list(L):\n",
    "    return list(set(L))\n",
    "\n",
    "L=[15,12,13,12,14,18,17,16,13,12,14,13,15,16]\n",
    "print(F'Unique elements of the first list is:{unique_list(L)}')"
   ]
  },
  {
   "cell_type": "markdown",
   "id": "71f92096-5ad5-4bd4-8c6f-0d5662746ded",
   "metadata": {},
   "source": [
    "### 37) Write a Python program to convert a list of characters into a string. "
   ]
  },
  {
   "cell_type": "code",
   "execution_count": 39,
   "id": "0b642819-74c7-490b-bbf1-9f23f6ff2369",
   "metadata": {},
   "outputs": [
    {
     "name": "stdout",
     "output_type": "stream",
     "text": [
      "Enter the unique stinge is : python\n",
      "Enter the unique string is:baiscmethod\n"
     ]
    }
   ],
   "source": [
    "L=['p','y','t','h','o','n']\n",
    "S=''.join(L)\n",
    "print(\"Enter the unique stinge is :\",S)\n",
    "\n",
    "#another way\n",
    "\n",
    "def convert_string(L):\n",
    "    string = \"\"\n",
    "    return (string.join(L))\n",
    "\n",
    "L=['b','a','i','s','c','m','e','t','h','o','d']\n",
    "print(f'Enter the unique string is:{convert_string(L)}')"
   ]
  },
  {
   "cell_type": "markdown",
   "id": "e59e755f-b32c-48e3-8e5d-3c15322e75c1",
   "metadata": {},
   "source": [
    "### 38) Write a Python program to select an item randomly from a list. "
   ]
  },
  {
   "cell_type": "code",
   "execution_count": 208,
   "id": "091710ba-4a27-40f4-9634-f27c635f6572",
   "metadata": {},
   "outputs": [
    {
     "name": "stdout",
     "output_type": "stream",
     "text": [
      "Enter randomly any items is: watermelon\n",
      "Enter the random value is :27\n"
     ]
    }
   ],
   "source": [
    "import random\n",
    "\n",
    "Fruits=[\"apple\",\"banana\",\"paineapple\",\"orange\",\"graphes\",\"kiwi\",\"strawberry\",'plum',\"watermelon\"]\n",
    "\n",
    "print(\"Enter randomly any items is:\",random.choice(Fruits))\n",
    "\n",
    "#another way\n",
    "\n",
    "import random\n",
    "def random_list(L):\n",
    "    return random.choice(L)\n",
    "\n",
    "L=[1,5,6,7,9,6,4,11,44,32,61,81,85,27,29,34,53]\n",
    "print(f'Enter the random value is :{random_list(L)}')"
   ]
  },
  {
   "cell_type": "markdown",
   "id": "4c7401f5-66d3-4c78-98db-a8e99c88a78c",
   "metadata": {},
   "source": [
    "### 39) Write a Python program to find the second smallest number in a list. "
   ]
  },
  {
   "cell_type": "code",
   "execution_count": 37,
   "id": "d8b067d0-0399-42ce-a447-737d421ee4d0",
   "metadata": {},
   "outputs": [
    {
     "name": "stdout",
     "output_type": "stream",
     "text": [
      "The second smallest number is: 0\n"
     ]
    }
   ],
   "source": [
    "\n",
    "def second_smallest_No(L):\n",
    "    if len(L)<2:\n",
    "        return None\n",
    "    \n",
    "    L1=sorted(set(L))\n",
    "    if len(L1)<2:\n",
    "        return None\n",
    "    return L1[1]\n",
    "\n",
    "L=[1,2,3,4,5,6,1,2,8,3,8,9,5,45,12,13,0,15,-5]\n",
    "print(\"The second smallest number is:\",second_smallest_No(L)) "
   ]
  },
  {
   "cell_type": "markdown",
   "id": "cc3985b3-5edf-416f-a497-fed5258f6bac",
   "metadata": {},
   "source": [
    "### 40) Write a Python program to get unique values from a list."
   ]
  },
  {
   "cell_type": "code",
   "execution_count": 34,
   "id": "506d2b5e-cbe9-4ead-9ce7-3260dd8df73d",
   "metadata": {},
   "outputs": [
    {
     "name": "stdout",
     "output_type": "stream",
     "text": [
      "Enter the unique values  are : [33, 66, 99, 11, 44, 77, 22, 55, 88]\n",
      "Enter the original list is :  [20, 30, 40, 50, 10, 60, 20, 30, 90, 80, 70, 50, 60]\n",
      "Enter the unique values  are : [70, 40, 10, 80, 50, 20, 90, 60, 30]\n",
      "Enter the original lis is : [11, 22, 55, 77, 88, 99, 55, 66, 44, 22, 11, 33]\n",
      "[11 22 33 44 55 66 77 88 99]\n",
      "Enter the unique values are : None\n"
     ]
    }
   ],
   "source": [
    "L=[11,22,55,77,88,99,55,66,44,22,11,33]\n",
    "l = set(L)\n",
    "unique_list =(list(l))\n",
    "print(f'Enter the unique values  are : {unique_list}')\n",
    "\n",
    "\n",
    "#another way\n",
    "def unique_list(L):\n",
    "    L1 = set(L)\n",
    "    unique_List = (list(L1))\n",
    "    for i in unique_List:\n",
    "        return unique_List\n",
    "\n",
    "L=[20,30,40,50,10,60,20,30,90,80,70,50,60]\n",
    "print(\"Enter the original list is : \",L)\n",
    "print(f'Enter the unique values  are : {unique_list(L)}')\n",
    "\n",
    "#another way\n",
    "\n",
    "import numpy as np\n",
    "\n",
    "def unique(L):\n",
    "    x = np.array(L)\n",
    "    print(np.unique(x))\n",
    "\n",
    "L=[11,22,55,77,88,99,55,66,44,22,11,33]\n",
    "print(\"Enter the original lis is :\",L)\n",
    "print(f'Enter the unique values are : {unique(L)}')\n"
   ]
  },
  {
   "cell_type": "markdown",
   "id": "9ea1a544-d5e6-40b1-b5eb-dae8d2322b22",
   "metadata": {},
   "source": [
    "### 41) Write a Python program to check whether a list contains a sub list."
   ]
  },
  {
   "cell_type": "code",
   "execution_count": 15,
   "id": "161a18a9-7932-4060-922c-b74c100d7a5c",
   "metadata": {},
   "outputs": [
    {
     "name": "stdout",
     "output_type": "stream",
     "text": [
      "False\n",
      "True\n",
      "False\n",
      "False\n"
     ]
    }
   ],
   "source": [
    "\n",
    "M=[11,12,15,11,12,13,14,15,16,17,18,19]\n",
    "N=[11,12,15]\n",
    "A = len(M)\n",
    "B = len(N)\n",
    "if A > B:\n",
    "    print('False')\n",
    "    for i in  range ((A-B)+1):\n",
    "         if M[i:i + B] == N:\n",
    "              print('True')\n",
    "    print('False')\n",
    "\n",
    "\n",
    "def contains_List(main_list,sub_list):\n",
    "    A = len(main_list)\n",
    "    B = len(sub_list)\n",
    "    if A > B:\n",
    "        return False\n",
    "    for i in  range ((A-B)+1):\n",
    "        if main_list[i:i + B] == sub_list:\n",
    "            return True\n",
    "    return False\n",
    "\n",
    "main_list=[11,12,15,11,12,13,14,15,16,17,18,19]\n",
    "sub_list=[11,12,15]\n",
    "print(contains_List(main_list,sub_list))"
   ]
  },
  {
   "cell_type": "markdown",
   "id": "641a7ad8-7c7f-47cd-a112-30b54f92fc8e",
   "metadata": {},
   "source": [
    "### 42) Write a Python program to split a list into different variables. "
   ]
  },
  {
   "cell_type": "code",
   "execution_count": 284,
   "id": "81a7282e-c2c4-4e9c-b43b-e77ea9726978",
   "metadata": {},
   "outputs": [
    {
     "name": "stdout",
     "output_type": "stream",
     "text": [
      "a: 1\n",
      "b: 2\n",
      "c: 3\n",
      "d: 4\n",
      "e: 5\n"
     ]
    }
   ],
   "source": [
    "L = [1, 2, 3, 4, 5]\n",
    "a, b, c, d, e = L\n",
    "print(\"a:\", a)\n",
    "print(\"b:\", b)\n",
    "print(\"c:\", c)\n",
    "print(\"d:\", d)\n",
    "print(\"e:\", e)\n"
   ]
  },
  {
   "cell_type": "markdown",
   "id": "0a5d9f02-7b53-44cc-beb6-efeb34218617",
   "metadata": {},
   "source": [
    "### 43) What is tuple? Difference between list and tuple. "
   ]
  },
  {
   "cell_type": "markdown",
   "id": "d5f80b37-90b9-4b32-a1a5-f6e3150403a3",
   "metadata": {},
   "source": [
    "A tuple in Python is an ordered, immutable collection of elements.\n",
    "\n",
    "List and Tuple in Python are the data structures that store and manipulate a collection of elements.\n",
    "Both are used to store the data, and the values stored can be accessed using indexes.\n",
    "But the key difference between both is that lists are mutable, and tuples are immutable.\n",
    "List consume more memory because they allow dynamic changes, and tuple are more momory efficient because they have a fixed size and don't need extra space for potential modification."
   ]
  },
  {
   "cell_type": "markdown",
   "id": "19fec908-c3aa-4cd7-b6bb-88e9edb0165c",
   "metadata": {},
   "source": [
    "### 44) Write a Python program to create a tuple with different data types. "
   ]
  },
  {
   "cell_type": "code",
   "execution_count": 302,
   "id": "107879d8-f970-4e00-ad16-19fa8380a2bd",
   "metadata": {},
   "outputs": [
    {
     "name": "stdout",
     "output_type": "stream",
     "text": [
      "Tuple with different data types are : (1, 'Hello', 3.14, True, [1, 2, 3], {'a': 1, 'b': 2}, (4, 5), 'R', False)\n"
     ]
    }
   ],
   "source": [
    "T = (1, \"Hello\", 3.14, True, [1, 2, 3], {\"a\": 1, \"b\": 2}, (4, 5),'R',False)\n",
    "print(\"Tuple with different data types are :\", T)\n"
   ]
  },
  {
   "cell_type": "markdown",
   "id": "9c201431-5ecf-4a0e-9b9f-800d937b8f4d",
   "metadata": {},
   "source": [
    "### 45) Write a Python program to unzip a list of tuples into individual lists. "
   ]
  },
  {
   "cell_type": "code",
   "execution_count": 311,
   "id": "0d25effb-1e89-4578-88e5-15b769e8bbc1",
   "metadata": {},
   "outputs": [
    {
     "name": "stdout",
     "output_type": "stream",
     "text": [
      "List 1 is : [11, 22, 33, 44, 55]\n",
      "List 2 is : ['AA', 'BB', 'CC', 'DD', 'EE']\n",
      "List 3 is : [1, 2, 3, 4, 5]\n"
     ]
    }
   ],
   "source": [
    "T=[(11,\"AA\",1),(22,\"BB\",2),(33,\"CC\",3),(44,\"DD\",4),(55,\"EE\",5)]\n",
    "T1 ,T2 ,T3 = zip(*T)\n",
    "\n",
    "T1 = list(T1)\n",
    "T2 = list(T2)\n",
    "T3 = list(T3)\n",
    "print(\"List 1 is :\",T1)\n",
    "print(\"List 2 is :\",T2)\n",
    "print(\"List 3 is :\",T3)"
   ]
  },
  {
   "cell_type": "markdown",
   "id": "899e1bcd-6eec-48c4-b69a-bd91a2b5e5ab",
   "metadata": {},
   "source": [
    "### 46) Write a Python program to convert a list of tuples into a dictionary. "
   ]
  },
  {
   "cell_type": "code",
   "execution_count": 326,
   "id": "850625f2-ba69-4f61-9c8d-7d42feef04c1",
   "metadata": {},
   "outputs": [
    {
     "name": "stdout",
     "output_type": "stream",
     "text": [
      "Dictionary is : {1: 'Emily in paris', 2: 'Fast and furious', 3: 'Fighter', 4: 'Pathaan', 5: 'Dear zindagi', 6: 'Jab we met', 7: 'Shershaah', 8: 'Final destination', 9: 'Mission impossible', 10: 'The Nun II'}\n"
     ]
    }
   ],
   "source": [
    "List_of_tuples =[(1,\"Emily in paris\"),(2,\"Fast and furious\"),(3,\"Fighter\"),(4,\"Pathaan\"),(5,\"Dear zindagi\"),\n",
    "                 (6,\"Jab we met\"),(7,\"Shershaah\"),(8,\"Final destination\"),(9,\"Mission impossible\"),(10,\"The Nun II\")]\n",
    "dictionary = dict(List_of_tuples)\n",
    "print(\"Dictionary is :\",dictionary)"
   ]
  },
  {
   "cell_type": "markdown",
   "id": "5fe51b0b-e68e-4478-8f79-c0425f729bb4",
   "metadata": {},
   "source": [
    "### 47) How will you create a dictionary using tuples in python? "
   ]
  },
  {
   "cell_type": "code",
   "execution_count": 348,
   "id": "c99f8917-e1c6-46d4-b5f2-5f47891409f7",
   "metadata": {},
   "outputs": [
    {
     "name": "stdout",
     "output_type": "stream",
     "text": [
      "The original tuple value 1 is :('LOL', 'IKN', 'Y', 'BFF', 'OMG', 'BTW', 'LMK')\n",
      "The original tuple value 2 is :(11, 22, 33, 44, 55, 66, 77)\n",
      "Dictionary construct from tuples : {'LOL': 11, 'IKN': 22, 'Y': 33, 'BFF': 44, 'OMG': 55, 'BTW': 66, 'LMK': 77}\n"
     ]
    }
   ],
   "source": [
    "T1 = ('LOL','IKN','Y','BFF','OMG','BTW','LMK')\n",
    "T2 = (11,22,33,44,55,66,77)\n",
    "print(\"The original tuple value 1 is :\" + str(T1))\n",
    "print(\"The original tuple value 2 is :\" + str(T2))\n",
    "\n",
    "if len(T1) == len(T2):\n",
    "    \n",
    "    T =dict(zip(T1,T2))\n",
    "    \n",
    "print(\"Dictionary construct from tuples :\",T)"
   ]
  },
  {
   "cell_type": "markdown",
   "id": "a50ba31e-a60e-4736-9421-0fe102917773",
   "metadata": {},
   "source": [
    "### 48) Write a Python script to sort (ascending and descending) a dictionary by value. "
   ]
  },
  {
   "cell_type": "code",
   "execution_count": 363,
   "id": "2278ed2e-53e0-4e92-b250-ba5bf347ede3",
   "metadata": {},
   "outputs": [
    {
     "name": "stdout",
     "output_type": "stream",
     "text": [
      "Oringinal dictionary:  {'Black': 4, 'White': 2, 'Pink': 5, 'Red': 3, 'Bule': 1}\n",
      "Dictionary sorted by value in ascending order:  {'Bule': 1, 'White': 2, 'Red': 3, 'Black': 4, 'Pink': 5}\n",
      "Dictionary sorted by value in descending order:  {'Pink': 5, 'Black': 4, 'Red': 3, 'White': 2, 'Bule': 1}\n",
      "\n",
      "Oringinal dictionary:  {'B': 1, 'W': 2, 'P': 5, 'R': 3}\n",
      "Dictionary sorted by value in ascending order:  [('B', 1), ('W', 2), ('R', 3), ('P', 5)]\n",
      "Dictionary sorted by value in descending order:  {'P': 5, 'R': 3, 'W': 2, 'B': 1}\n"
     ]
    }
   ],
   "source": [
    "D = {\"Black\" : 4,\"White\" : 2,\"Pink\" : 5 ,\"Red\" : 3,\"Bule\" : 1}\n",
    "\n",
    "Dict_asc = dict(sorted(D.items(), key=lambda item: item[1]))\n",
    "Dict_desc = dict(sorted(D.items(), key=lambda item: item[1], reverse = True))\n",
    "\n",
    "print(\"Oringinal dictionary: \",D)\n",
    "print(\"Dictionary sorted by value in ascending order: \",Dict_asc)\n",
    "print(\"Dictionary sorted by value in descending order: \",Dict_desc)\n",
    "\n",
    "#another way\n",
    "\n",
    "import operator\n",
    "\n",
    "D = {\"B\" : 4,\"W\" : 2,\"P\" : 5 ,\"R\" : 3,\"B\" : 1}\n",
    "\n",
    "Dict_asc = sorted(D.items(), key=operator.itemgetter(1))\n",
    "Dict_desc = dict(sorted(D.items(), key=operator.itemgetter(1), reverse = True))\n",
    "\n",
    "print(\"\\nOringinal dictionary: \",D)\n",
    "print(\"Dictionary sorted by value in ascending order: \",Dict_asc)\n",
    "print(\"Dictionary sorted by value in descending order: \",Dict_desc)"
   ]
  },
  {
   "cell_type": "markdown",
   "id": "91ed8312-7c1c-4bde-b96f-df6850678d2f",
   "metadata": {},
   "source": [
    "### 49) Write a Python script to concatenate following dictionaries to create a new one."
   ]
  },
  {
   "cell_type": "code",
   "execution_count": 368,
   "id": "7ae69164-2aea-4c25-bb2e-e2f9759ea85e",
   "metadata": {},
   "outputs": [
    {
     "name": "stdout",
     "output_type": "stream",
     "text": [
      "{'Niki': 56, 'Maryam': 60, 'Ankit': 70, 'Tulsi': 68, 'Suman': 71, 'Tom': 75, 'ABC': 25, 'XYZ': 30, 'PQR': 31, 'EFG': 25, 'JKL': 40, 'VWU': 38, 'ZZ': 2, 'XX': 3, 'YY': 1, 'KK': 6, 'PP': 4, 'SS': 5}\n"
     ]
    }
   ],
   "source": [
    "D1 ={'Niki':56,'Maryam':60,'Ankit':70,'Tulsi':68,'Suman':71,'Tom':75}\n",
    "D2 = {'ABC':25,\"XYZ\":30,'PQR':31,'EFG':25,'JKL':40,'VWU':38}\n",
    "D3 = {'ZZ':2,'XX':3,'YY':1,'KK':6,'PP':4,'SS':5}\n",
    "D = {}\n",
    "for i in (D1,D2,D3):\n",
    "    D.update(i)\n",
    "print(D)"
   ]
  },
  {
   "cell_type": "markdown",
   "id": "345e5eba-f1d1-41d8-a708-dc906ef72c68",
   "metadata": {},
   "source": [
    "### 50) Write a Python script to check if a given key already exists in a dictionary."
   ]
  },
  {
   "cell_type": "code",
   "execution_count": 1,
   "id": "505a54fe-a2d8-4af9-9342-b3ca09c41c5e",
   "metadata": {},
   "outputs": [
    {
     "name": "stdout",
     "output_type": "stream",
     "text": [
      "present value = 65\n",
      "Not present\n"
     ]
    }
   ],
   "source": [
    "def check_key(D,K):\n",
    "    if K in D.keys():\n",
    "        print(\"present\", end =\" \")\n",
    "        print(\"value =\",D[K])\n",
    "    else:\n",
    "        print(\"Not present\")\n",
    "\n",
    "D = {'Maths' :60,'Science' :80,'English' :65,'Gujrati' :65}\n",
    "K = 'English'\n",
    "check_key(D,K)\n",
    "\n",
    "D = {'Maths' :60,'Science' :80,'English' :65,'Gujrati' :65}\n",
    "K = 'Python'\n",
    "check_key(D,K)"
   ]
  },
  {
   "cell_type": "markdown",
   "id": "75c65e8e-1694-4ab3-a37f-56c7d4b74be2",
   "metadata": {},
   "source": [
    "### 51) How Do You Traverse Through a Dictionary Object in Python? "
   ]
  },
  {
   "cell_type": "code",
   "execution_count": 26,
   "id": "772b0380-1749-418b-bec0-d87a977561b2",
   "metadata": {},
   "outputs": [
    {
     "name": "stdout",
     "output_type": "stream",
     "text": [
      "Maths\n",
      "Python\n",
      "Statistics\n",
      "SQL\n",
      "70\n",
      "75\n",
      "69\n",
      "80\n",
      "Key : Maths, Value : 70\n",
      "Key : Python, Value : 75\n",
      "Key : Statistics, Value : 69\n",
      "Key : SQL, Value : 80\n"
     ]
    }
   ],
   "source": [
    "D ={'Maths':70,'Python':75,'Statistics':69,'SQL':80}\n",
    "for key in D:\n",
    "    print(key)\n",
    "    \n",
    "#another way\n",
    "\n",
    "D ={'Maths':70,'Python':75,'Statistics':69,'SQL':80}\n",
    "for value in D.values():\n",
    "    print(value)\n",
    "    \n",
    "#another way\n",
    "D ={'Maths':70,'Python':75,'Statistics':69,'SQL':80}\n",
    "for key,value in D.items():\n",
    "    print(f'Key : {key}, Value : {value}')"
   ]
  },
  {
   "cell_type": "markdown",
   "id": "f2da862c-e821-49a4-b026-2b3ad050ca0b",
   "metadata": {},
   "source": [
    "### 52) How Do You Check the Presence of a Key in A Dictionay? "
   ]
  },
  {
   "cell_type": "code",
   "execution_count": 37,
   "id": "2115ef4c-0a93-4400-b8fb-f171f8e0f0bf",
   "metadata": {},
   "outputs": [
    {
     "name": "stdout",
     "output_type": "stream",
     "text": [
      "The key Rajvi is exists in the dictioary.\n",
      "Key 'Ketan' is present in the dictioary.\n"
     ]
    }
   ],
   "source": [
    "D = {'Khushboo':29,'Ketan':27,'Rajvi':24,'Chetan':25}\n",
    "check_key = 'Rajvi'\n",
    "if check_key in D:\n",
    "    print(f'The key {check_key} is exists in the dictioary.')\n",
    "else:\n",
    "    print(f'The key {check_key} does not exist in the dictionary.')\n",
    "\n",
    "# another way\n",
    "\n",
    "D = {'Khushboo':29,'Ketan':27,'Rajvi':24,'Chetan':25}\n",
    "if D.get('Ketan') is not None:\n",
    "    print(\"Key 'Ketan' is present in the dictioary.\")\n",
    "else:\n",
    "    print(\"Key 'Ketan' is not present in the dictionary.\")"
   ]
  },
  {
   "cell_type": "markdown",
   "id": "93dbe1cb-e879-45b9-b54c-7ec776fbbbe0",
   "metadata": {},
   "source": [
    "### 53) Write a Python script to print a dictionary where the keys are numbers between 1 and 15. "
   ]
  },
  {
   "cell_type": "code",
   "execution_count": 65,
   "id": "94c1f5bf-1727-4a75-9c9a-a56ae7343355",
   "metadata": {},
   "outputs": [
    {
     "name": "stdin",
     "output_type": "stream",
     "text": [
      "Enter the number is :  5\n"
     ]
    },
    {
     "name": "stdout",
     "output_type": "stream",
     "text": [
      "{1: 5, 2: 5, 3: 5, 4: 5, 5: 5}\n"
     ]
    }
   ],
   "source": [
    "n = int(input(\"Enter the number is : \"))\n",
    "D = dict()\n",
    "for i in range (1,n+1):\n",
    "    D[i] = n\n",
    "print(D)"
   ]
  },
  {
   "cell_type": "markdown",
   "id": "2f0c9f80-e19c-4494-ae57-74cea00357a3",
   "metadata": {},
   "source": [
    "### 54) Write a Python program to check multiple keys exists in a dictionary."
   ]
  },
  {
   "cell_type": "code",
   "execution_count": 105,
   "id": "08337186-7d1e-49ee-a028-f4553abc7e3c",
   "metadata": {},
   "outputs": [
    {
     "name": "stdout",
     "output_type": "stream",
     "text": [
      "True\n",
      "keys are not present\n"
     ]
    }
   ],
   "source": [
    "def check_keys_exist(D, k):\n",
    "    return all(key in D for key in k)\n",
    "D = {1:'Cat',2:'Dog',3:'Rabbit',4:'Horse',5:'Birds'}\n",
    "k = (1,2,3)\n",
    "print(check_keys_exist(D,k))\n",
    "\n",
    "#another way\n",
    "\n",
    "D = {1:'Cat',2:'Dog',3:'Rabbit',4:'Horse',5:'Birds'}\n",
    "if all(key in D for key in (4,5,7)):\n",
    "    print(\"keys are present\")\n",
    "else:\n",
    "    print(\"keys are not present\")\n",
    " "
   ]
  },
  {
   "cell_type": "markdown",
   "id": "a924f208-9a95-48ca-a68a-e4c5fa465945",
   "metadata": {},
   "source": [
    "### 55) Write a Python script to merge two Python dictionaries."
   ]
  },
  {
   "cell_type": "code",
   "execution_count": 132,
   "id": "f0130dde-d9ea-4bea-a10a-2a03aa8121c8",
   "metadata": {},
   "outputs": [
    {
     "name": "stdout",
     "output_type": "stream",
     "text": [
      "Original Dictionry is : {1: 'KKK', 2: 'LLL', 3: 'HHH'} {4: 'XX', 5: 'YY', 6: 'ZZ'}\n",
      "Merge dictioneries is: {1: 'KKK', 2: 'LLL', 3: 'HHH', 4: 'XX', 5: 'YY', 6: 'ZZ'}\n",
      "Merge dictioneries1 is: {11: 'a', 22: 'b', 33: 'c', 44: 'd', 55: 'e', 66: 'f', 77: 'g'}\n",
      "Merge dictioneries2 is: {11: 'a', 22: 'b', 33: 'c', 44: 'd', 55: 'e', 66: 'f', 77: 'g'}\n",
      "Merge dictioneries3 is: {11: 'a', 22: 'b', 33: 'c', 44: 'd', 55: 'e', 66: 'f', 77: 'g'}\n"
     ]
    }
   ],
   "source": [
    "def Merge_dictionaries(*D):\n",
    "    d = dict()\n",
    "    for i in D:\n",
    "        d.update(i)\n",
    "    return d\n",
    "A = {1:'KKK',2:'LLL',3:'HHH'}\n",
    "B = {4:'XX',5:'YY',6:'ZZ'}\n",
    "print(\"Original Dictionry is :\", A,B)\n",
    "print(\"Merge dictioneries is:\", Merge_dictionaries(A,B))\n",
    "\n",
    "#another way\n",
    "\n",
    "X = {11:'a',22:'b',33:'c',44:'d'}\n",
    "Y = {55:'e',66:'f',77:'g'}\n",
    "X.update(Y) \n",
    "print(\"Merge dictioneries1 is:\", X)\n",
    "M ={**X,**Y}\n",
    "print(\"Merge dictioneries2 is:\", M)\n",
    "m = X|Y\n",
    "print(\"Merge dictioneries3 is:\", m)\n"
   ]
  },
  {
   "cell_type": "markdown",
   "id": "34733dad-df7e-4e5d-8e4d-5549c8fd89a7",
   "metadata": {},
   "source": [
    "### 56) Write a Python program to map two lists into a dictionary \n",
    "###    Sample output: Counter ({'a': 400, 'b': 400,’d’: 400, 'c': 300}). "
   ]
  },
  {
   "cell_type": "code",
   "execution_count": 142,
   "id": "f322d68c-a877-4a68-8d26-a602dc809c28",
   "metadata": {},
   "outputs": [
    {
     "name": "stdout",
     "output_type": "stream",
     "text": [
      "Dictionary is :  {'a': 400, 'b': 400, 'c': 400, 'd': 300}\n"
     ]
    }
   ],
   "source": [
    "D1 = ['a','b','c','d']\n",
    "D2 = [400,400,400,300]\n",
    "D = dict(zip(D1,D2))\n",
    "print(\"Dictionary is : \",D)"
   ]
  },
  {
   "cell_type": "markdown",
   "id": "c1e3e925-b554-4938-9a58-f5f646756d49",
   "metadata": {},
   "source": [
    "### 57) Write a Python program to find the highest 3 values in a dictionary. "
   ]
  },
  {
   "cell_type": "code",
   "execution_count": 163,
   "id": "9e44e7cb-4cf3-4ae7-8a4e-1234c9aed8cf",
   "metadata": {},
   "outputs": [
    {
     "name": "stdout",
     "output_type": "stream",
     "text": [
      "3  highest value in dictionary is :  [29, 28, 28]\n",
      "Initial Dictionary: {'Sikha': 28, 'Aniket': 26, 'Rajvi': 25, 'Sunil': 27, 'Rauf': 28, 'Avni': 29}\n",
      "Dictionary with 3 highest values:\n",
      "Keys: Values\n",
      "Avni  : 29  \n",
      "Sikha  : 28  \n",
      "Rauf  : 28  \n"
     ]
    }
   ],
   "source": [
    "D ={'Sikha':28,'Aniket':26,'Rajvi':25,'Sunil':27,'Rauf':28,'Avni':29}\n",
    "H = sorted(D.values(),reverse=True)[:3]\n",
    "print(\"3  highest value in dictionary is : \",H)\n",
    "\n",
    "#another way\n",
    "\n",
    "from collections import Counter\n",
    "D ={'Sikha':28,'Aniket':26,'Rajvi':25,'Sunil':27,'Rauf':28,'Avni':29}\n",
    "k = Counter(D)\n",
    "h = k.most_common(3) \n",
    "print(\"Initial Dictionary:\",D) \n",
    "print(\"Dictionary with 3 highest values:\")\n",
    "print(\"Keys: Values\")\n",
    "for i in h:\n",
    "    print(i[0],\" :\",i[1],\" \")"
   ]
  },
  {
   "cell_type": "markdown",
   "id": "35c35edb-24ec-429f-a57e-47db1358a998",
   "metadata": {},
   "source": [
    "### 58) Write a Python program to combine values in python list of dictionaries. \n",
    "    Sample data: [{'item': 'item1', 'amount': 400}, {'item': 'item2', 'amount': 300}, o {'item': 'item1', 'amount': 750}] \n",
    "    Expected Output:\n",
    "         • Counter ({'item1': 1150, 'item2': 300})"
   ]
  },
  {
   "cell_type": "code",
   "execution_count": 192,
   "id": "78c31035-076c-4d13-b99b-ca5e3e66e230",
   "metadata": {},
   "outputs": [
    {
     "name": "stdout",
     "output_type": "stream",
     "text": [
      "   Counter({'item1': 1150, 'item2': 300})\n"
     ]
    }
   ],
   "source": [
    "from collections import Counter\n",
    "A = [{'item':'item1','amount':400},{'item':'item2','amount':300},{'item':'item1','amount':750}]\n",
    "C = Counter()\n",
    "for i in A:\n",
    "    C[i['item']]+=i['amount']\n",
    "\n",
    "print(\"  \",C)\n"
   ]
  },
  {
   "cell_type": "markdown",
   "id": "4331366d-7c4d-4e60-a8d3-fef4a1b93860",
   "metadata": {},
   "source": [
    "### 59) Write a Python program to create a dictionary from a string. Note: Track the count of the letters from the string. "
   ]
  },
  {
   "cell_type": "code",
   "execution_count": 185,
   "id": "f201bfa6-45ce-4c56-a724-ed373ff79482",
   "metadata": {},
   "outputs": [
    {
     "name": "stdout",
     "output_type": "stream",
     "text": [
      "All letter count  in dictionary :  Counter({'l': 3, 'o': 2, 'H': 1, 'e': 1, ' ': 1, 'W': 1, 'r': 1, 'd': 1})\n"
     ]
    }
   ],
   "source": [
    "from collections import Counter\n",
    "W = \"Hello World\"\n",
    "letter_count = Counter(W)\n",
    "print(\"All letter count  in dictionary : \",letter_count)"
   ]
  },
  {
   "cell_type": "markdown",
   "id": "7043adb1-2259-4aa6-8768-2e6c6378cf5c",
   "metadata": {},
   "source": [
    "### 60) Sample string: 'w3resource'\n",
    "###    Expected output:• {'3': 1,’s’: 1, 'r': 2, 'u': 1, 'w': 1, 'c': 1, 'e': 2, 'o': 1}"
   ]
  },
  {
   "cell_type": "code",
   "execution_count": 190,
   "id": "a69100b1-2b83-4b68-a201-c8c24b22d9c7",
   "metadata": {},
   "outputs": [
    {
     "name": "stdout",
     "output_type": "stream",
     "text": [
      "Counter({'r': 2, 'e': 2, 'w': 1, '3': 1, 's': 1, 'o': 1, 'u': 1, 'c': 1})\n"
     ]
    }
   ],
   "source": [
    "from collections import Counter\n",
    "W = 'w3resource'\n",
    "L = Counter(W)\n",
    "print(L)"
   ]
  },
  {
   "cell_type": "markdown",
   "id": "e0587110-8f6b-4a31-87e6-aea6cb3afdbe",
   "metadata": {},
   "source": [
    "### 61)Write a Python function to calculate the factorial of a number (a nonnegative integer)."
   ]
  },
  {
   "cell_type": "code",
   "execution_count": 249,
   "id": "6f71da9d-8ea5-4c59-a069-e9750d3edaef",
   "metadata": {},
   "outputs": [
    {
     "name": "stdin",
     "output_type": "stream",
     "text": [
      "Enter the number :  5\n"
     ]
    },
    {
     "name": "stdout",
     "output_type": "stream",
     "text": [
      "Factorial of 5 is 120.\n",
      "Factorial is :  120\n"
     ]
    }
   ],
   "source": [
    "n=int(input(\"Enter the number : \"))    \n",
    "sum=1\n",
    "for i in range(1,n+1):\n",
    "    sum=sum*i\n",
    "print(f'Factorial of {n} is {sum}.')\n",
    "\n",
    "#another way\n",
    "\n",
    "def factorial_iterative(n):\n",
    "    if n < 0:\n",
    "        raise ValueError(\"Input must be a nonnegative integer.\")\n",
    "    result = 1\n",
    "    for i in range(1, n + 1):\n",
    "        result *= i\n",
    "    return result\n",
    "\n",
    "print(\"Factorial is : \", factorial_iterative(5))  \n"
   ]
  },
  {
   "cell_type": "markdown",
   "id": "54d4693d-9db7-45b4-9e75-5f15557ba150",
   "metadata": {},
   "source": [
    "### 62) Write a Python function to check whether a number is in a given range."
   ]
  },
  {
   "cell_type": "code",
   "execution_count": 288,
   "id": "11036411-9f6a-4e74-8a14-857c0480a68f",
   "metadata": {},
   "outputs": [
    {
     "name": "stdout",
     "output_type": "stream",
     "text": [
      "Range is : 5\n"
     ]
    }
   ],
   "source": [
    "def count(n,l,r):\n",
    "    sum=0\n",
    "    for i in n:\n",
    "        if i>=l and i<=r:\n",
    "            sum=sum+1   #l and r between how many number count\n",
    "    return sum\n",
    "        \n",
    "n=[10,20,30,40,50,60,70,80,90]\n",
    "l=40                          #start\n",
    "r=80                          #end\n",
    "print(\"Range is :\",count(n,l,r))\n"
   ]
  },
  {
   "cell_type": "markdown",
   "id": "eeb8bd90-a622-4ae0-adcd-1319ced34db0",
   "metadata": {},
   "source": [
    "### 63) Write a Python function to check whether a number is perfect or not. "
   ]
  },
  {
   "cell_type": "code",
   "execution_count": 9,
   "id": "29d78577-6d70-4eb7-95d6-380e266caeac",
   "metadata": {},
   "outputs": [
    {
     "name": "stdin",
     "output_type": "stream",
     "text": [
      "Enter the number is n :  12\n"
     ]
    },
    {
     "name": "stdout",
     "output_type": "stream",
     "text": [
      "12 is not perfect number!\n"
     ]
    }
   ],
   "source": [
    "#perferct number : n%N=N1+N2+.....+Nn=n\n",
    "n= int(input(\"Enter the number is n : \"))\n",
    "sum=0\n",
    "for i in range(1,n):\n",
    "    if(n % i == 0):\n",
    "        sum+=i\n",
    "if(sum == n):\n",
    "    print(f'{n} is  perfect number!')\n",
    "else:\n",
    "    print(f'{n} is not perfect number!')"
   ]
  },
  {
   "cell_type": "markdown",
   "id": "8766c319-ddb1-436a-b94b-a7131a166414",
   "metadata": {},
   "source": [
    "### 64) Write a Python function that checks whether a passed string is palindrome or not."
   ]
  },
  {
   "cell_type": "code",
   "execution_count": 329,
   "id": "2297afe9-ea9f-49c7-b522-aa8a0c574f2d",
   "metadata": {},
   "outputs": [
    {
     "name": "stdin",
     "output_type": "stream",
     "text": [
      "Enter the string:  level\n"
     ]
    },
    {
     "name": "stdout",
     "output_type": "stream",
     "text": [
      "The string is palindrome!\n"
     ]
    },
    {
     "name": "stdin",
     "output_type": "stream",
     "text": [
      "Enter the string is :  madam\n"
     ]
    },
    {
     "name": "stdout",
     "output_type": "stream",
     "text": [
      "Yes\n"
     ]
    }
   ],
   "source": [
    "#palindrome string is reverse string same string. For e.g. wow <=> wow\n",
    "\n",
    "def palindrome(string):\n",
    "    if(string == string[::-1]):\n",
    "        return \"The string is palindrome!\"\n",
    "    else:\n",
    "        return \"The string is not palindrome!\"\n",
    "\n",
    "string=input(\"Enter the string: \")\n",
    "print(palindrome(string))\n",
    "\n",
    "#another way\n",
    "\n",
    "x =input(\"Enter the string is : \")\n",
    "w = \"\"\n",
    "for i in x:\n",
    "    w = i + w\n",
    "if (x == w):\n",
    "    print(\"Yes\")\n",
    "else:\n",
    "    print(\"No\")\n"
   ]
  },
  {
   "cell_type": "markdown",
   "id": "fdd6b14d-31e8-4df1-9a1f-91b182db598d",
   "metadata": {},
   "source": [
    "### 65) How Many Basic Types of Functions Are Available in Python? "
   ]
  },
  {
   "cell_type": "markdown",
   "id": "7c5e7859-2498-46a9-b49d-b90ffa64712e",
   "metadata": {},
   "source": [
    "There are two type of functions:-\n",
    "1. built-in function:These are pre-defined functions in python.\n",
    "2. User-defined functions:These types of functions are defined by the user to perform any specific task."
   ]
  },
  {
   "cell_type": "markdown",
   "id": "d3e6d7b5-ac99-4010-9465-bae62a328c47",
   "metadata": {},
   "source": [
    " ### 66) How can you pick a random item from a list or tuple? "
   ]
  },
  {
   "cell_type": "code",
   "execution_count": 341,
   "id": "d2bbc009-be4f-4057-9fba-981096336dfb",
   "metadata": {},
   "outputs": [
    {
     "name": "stdout",
     "output_type": "stream",
     "text": [
      "Random item from list: 301\n",
      "Random item from tuple: 120\n"
     ]
    }
   ],
   "source": [
    "#Using list function\n",
    "\n",
    "import random\n",
    "\n",
    "L = [101, 201, 301, 401, 501]\n",
    "R = random.choice(L)\n",
    "print(\"Random item from list:\", R)\n",
    "\n",
    "#Using tuple function\n",
    "\n",
    "import random\n",
    "\n",
    "T = (110, 120, 130, 140, 150)\n",
    "R1 = random.choice(T)\n",
    "print(\"Random item from tuple:\", R1)\n"
   ]
  },
  {
   "cell_type": "markdown",
   "id": "3a4e76ca-7a06-4c85-a933-4c2295b9e5c0",
   "metadata": {},
   "source": [
    "### 67) How can you pick a random item from a range? "
   ]
  },
  {
   "cell_type": "code",
   "execution_count": 350,
   "id": "0ce19d35-09ff-4b21-8090-6a70261754bd",
   "metadata": {},
   "outputs": [
    {
     "name": "stdout",
     "output_type": "stream",
     "text": [
      "Random item from range: 710\n"
     ]
    }
   ],
   "source": [
    "import random\n",
    "\n",
    "start = 15\n",
    "end = 1000\n",
    "\n",
    "R = random.randrange(start, end + 1)\n",
    "print(\"Random item from range:\", R)\n"
   ]
  },
  {
   "cell_type": "markdown",
   "id": "248e5428-f7e9-4d2d-a80a-0ed6d124f73a",
   "metadata": {},
   "source": [
    "### 68) How can you get a random number in python? "
   ]
  },
  {
   "cell_type": "code",
   "execution_count": 370,
   "id": "16d8d203-07d3-49fa-aba3-bef98d5139a8",
   "metadata": {},
   "outputs": [
    {
     "name": "stdout",
     "output_type": "stream",
     "text": [
      "202\n"
     ]
    }
   ],
   "source": [
    "import random\n",
    "\n",
    "L = [1, 2, 3, 4, 5, 6,11,14,51,35,28,91,101,202,24,201,103,115,181]\n",
    "print(random.choice(L))"
   ]
  },
  {
   "cell_type": "markdown",
   "id": "62a2e44e-7fcf-486a-b5a8-45c629cc92a7",
   "metadata": {},
   "source": [
    "### 69) How will you set the starting value in generating random numbers? "
   ]
  },
  {
   "cell_type": "code",
   "execution_count": 43,
   "id": "6ad1aee2-f37d-4e54-901e-09fa3d403166",
   "metadata": {},
   "outputs": [],
   "source": [
    "import random                                    \n",
    "\n",
    "random.seed(45)\n"
   ]
  },
  {
   "cell_type": "markdown",
   "id": "26de8d8a-502b-4695-aeb3-a40c9f8a9cb4",
   "metadata": {},
   "source": [
    "### 70) How will you randomize the items of a list in place? "
   ]
  },
  {
   "cell_type": "code",
   "execution_count": 399,
   "id": "b2efb626-7888-4c9d-9f97-85c1294710ec",
   "metadata": {},
   "outputs": [
    {
     "name": "stdout",
     "output_type": "stream",
     "text": [
      "Randomize the items of a list : [55, 44, 22, 11, 33]\n"
     ]
    }
   ],
   "source": [
    "import random\n",
    "\n",
    "L = [11, 22, 33, 44, 55]\n",
    "random.shuffle(L)\n",
    "print(\"Randomize the items of a list :\", L)\n"
   ]
  }
 ],
 "metadata": {
  "kernelspec": {
   "display_name": "Python 3 (ipykernel)",
   "language": "python",
   "name": "python3"
  },
  "language_info": {
   "codemirror_mode": {
    "name": "ipython",
    "version": 3
   },
   "file_extension": ".py",
   "mimetype": "text/x-python",
   "name": "python",
   "nbconvert_exporter": "python",
   "pygments_lexer": "ipython3",
   "version": "3.12.4"
  }
 },
 "nbformat": 4,
 "nbformat_minor": 5
}
